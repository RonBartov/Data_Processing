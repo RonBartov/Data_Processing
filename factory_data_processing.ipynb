{
  "nbformat": 4,
  "nbformat_minor": 0,
  "metadata": {
    "colab": {
      "provenance": [],
      "authorship_tag": "ABX9TyP8wVmbmyGtlWxKm5wvCCp2",
      "include_colab_link": true
    },
    "kernelspec": {
      "name": "python3",
      "display_name": "Python 3"
    },
    "language_info": {
      "name": "python"
    }
  },
  "cells": [
    {
      "cell_type": "markdown",
      "metadata": {
        "id": "view-in-github",
        "colab_type": "text"
      },
      "source": [
        "<a href=\"https://colab.research.google.com/github/RonBartov/Data_Processing/blob/main/factory_data_processing.ipynb\" target=\"_parent\"><img src=\"https://colab.research.google.com/assets/colab-badge.svg\" alt=\"Open In Colab\"/></a>"
      ]
    },
    {
      "cell_type": "markdown",
      "source": [
        "# **Factory Data Processing**"
      ],
      "metadata": {
        "id": "NzDXv0KQYvNV"
      }
    },
    {
      "cell_type": "markdown",
      "source": [
        "# **General Background and Goals**\n",
        "We have a table called 'factory_test.csv' that contains test data for 51 devices from the population of devices tested in the factory. We are defining the test data as the “**sample group**”.\n",
        "\n",
        "In addition to the sample group we have a table called 'new_devices.csv' that contains data for 3 additonal devices. We are defining this data as the “**new sample group**”.\n",
        "\n",
        "### **Main Goal**\n",
        "Understand the \"sample group data\" and later to explore and understand the relation of \"new sample group\" to the \"sample group\" in terms of probability.\n",
        "\n",
        "### **Side Goal**\n",
        "Suggest and implement a method for testng new devices based on our knowledge\n",
        "of the \"sample group\" and specify which devices (sample group and new devices) fail the test your tests and why.\n",
        "\n",
        "# **Data Description**\n",
        "Both \"sample group\" and \"new sample group\" datasets contains the following information:\n",
        "\n",
        "${\\circ}$ 5 **dependent** variables (features) Y1 - Y5.\n",
        "<br>\n",
        "${\\circ}$ 4 **independent** variables X2 - X5.\n",
        "<br>\n",
        "${\\circ}$ for i = 2,3,4,5 the feature ${Y_i}$ corresponds to ${X_i}$.\n",
        "<br>\n",
        "${\\circ}$ The feature ${Y_1}$ has no corresponding variable.\n",
        "\n",
        "###**Allowed Libraries**\n",
        "1) Numpy\n",
        "<br>\n",
        "2) Pandas\n",
        "<br>\n",
        "3) Matplotlib\n",
        "\n",
        "# **Part by Part**\n",
        "We will divide this assignment into 5 different sections, each will be focucing on a different task as follows:\n",
        "\n",
        "${\\circ}$ **Section 1-** Data Loading and Description\n",
        "<br>\n",
        "${\\circ}$ **Section 2-** Data Visualization and Explanaton\n",
        "<br>\n",
        "${\\circ}$ **Section 3-** Data Preprocessing\n",
        "<br>\n",
        "${\\circ}$ **Section 4-** Data Exploration\n",
        "<br>\n",
        "${\\circ}$ **Section 5-** Suggest new testing method\n",
        "<br>\n",
        "\n",
        "# **Initial Assumption**\n",
        "According to the description of the data we can assume that this assignment can be categorized as a \"Regression\" problem.\n",
        "\n",
        "Regression analysis is used to predict the value of a variable based on the value of another variable. The variable we want to predict is called the dependent variable (Y in our case) and the variable we are using in order to predict Y's value is called the independent variable, which is X in our case.\n",
        "\n",
        "\n",
        "###**Using 'Notes'**\n",
        "In orded to give some clear explenations regarding specific actions or decision we make, we will add a text box with a 'Note' title everytime we would like to explain something."
      ],
      "metadata": {
        "id": "nziMSPyeaFl4"
      }
    },
    {
      "cell_type": "markdown",
      "source": [
        "# **Functions that will be used throughout the assignment**"
      ],
      "metadata": {
        "id": "-xTEfprmxYxu"
      }
    },
    {
      "cell_type": "code",
      "source": [],
      "metadata": {
        "id": "1WIAvWaUxkOc"
      },
      "execution_count": null,
      "outputs": []
    },
    {
      "cell_type": "markdown",
      "source": [
        "# **Import Libraries**"
      ],
      "metadata": {
        "id": "jCHCmMNjaFMn"
      }
    },
    {
      "cell_type": "code",
      "source": [
        "import numpy as np\n",
        "import pandas as pd\n",
        "import matplotlib.pyplot as plt\n",
        "from google.colab import drive"
      ],
      "metadata": {
        "id": "vvJVCPgEaE6J"
      },
      "execution_count": 3,
      "outputs": []
    },
    {
      "cell_type": "markdown",
      "source": [
        "# **Section 1- Data Loading and Description**\n",
        "In this section we will load the data of sample group from 'factory_test.csv' and will provide a description of its contents.\n",
        "\n",
        "We will present the following properties for the data:\n",
        "\n",
        "${\\circ}$ Data shape\n",
        "<br>\n",
        "${\\circ}$ Range of values in each feature and variable\n",
        "<br>\n",
        "${\\circ}$ Data distribution: Mean and variance\n",
        "<br>\n",
        "${\\circ}$ Check for missing values and if exist, we will replace them with a reasonable value  "
      ],
      "metadata": {
        "id": "cUvwtmFsaI2o"
      }
    },
    {
      "cell_type": "code",
      "source": [
        "# mount google drive into colab\n",
        "drive.mount('/content/gdrive')"
      ],
      "metadata": {
        "colab": {
          "base_uri": "https://localhost:8080/"
        },
        "id": "DgWtBWlZaFXU",
        "outputId": "dd2973f6-fcb2-4741-cdfb-8126d0d8cb44"
      },
      "execution_count": 4,
      "outputs": [
        {
          "output_type": "stream",
          "name": "stdout",
          "text": [
            "Mounted at /content/gdrive\n"
          ]
        }
      ]
    },
    {
      "cell_type": "code",
      "source": [
        "# Loading the sample group data\n",
        "csv_sample_group_path = r'/content/gdrive/MyDrive/Pulsenmore/factory_test_data.csv'\n",
        "sample_group = pd.read_csv(csv_sample_group_path)"
      ],
      "metadata": {
        "id": "icKJXJJMlL5a"
      },
      "execution_count": 5,
      "outputs": []
    },
    {
      "cell_type": "code",
      "source": [
        "# Presenting the data frame in order to get initial understanding about the data\n",
        "num_rows_to_present = 5\n",
        "sample_group.head(num_rows_to_present)"
      ],
      "metadata": {
        "colab": {
          "base_uri": "https://localhost:8080/",
          "height": 206
        },
        "id": "clg5wOgTl-Ax",
        "outputId": "cc502921-aad2-4a9d-ad82-4d2c4ee4c46a"
      },
      "execution_count": 6,
      "outputs": [
        {
          "output_type": "execute_result",
          "data": {
            "text/plain": [
              "     Y1  X2     Y2  X3     Y3  X4     Y4  X5    Y5\n",
              "0  1491  18   16.8  14  13.33  12  11.12   9  8.33\n",
              "1  1491  []     []  []     []  []     []  []    []\n",
              "2  2004  18  17.94  14  13.99  12  11.72   9  8.65\n",
              "3  1493  []     []  []     []  []     []  []    []\n",
              "4  1497  18     18  14  13.59  12  12.91   9  7.82"
            ],
            "text/html": [
              "\n",
              "\n",
              "  <div id=\"df-2c9e76a9-9b9f-4a87-85fd-ad433878a449\">\n",
              "    <div class=\"colab-df-container\">\n",
              "      <div>\n",
              "<style scoped>\n",
              "    .dataframe tbody tr th:only-of-type {\n",
              "        vertical-align: middle;\n",
              "    }\n",
              "\n",
              "    .dataframe tbody tr th {\n",
              "        vertical-align: top;\n",
              "    }\n",
              "\n",
              "    .dataframe thead th {\n",
              "        text-align: right;\n",
              "    }\n",
              "</style>\n",
              "<table border=\"1\" class=\"dataframe\">\n",
              "  <thead>\n",
              "    <tr style=\"text-align: right;\">\n",
              "      <th></th>\n",
              "      <th>Y1</th>\n",
              "      <th>X2</th>\n",
              "      <th>Y2</th>\n",
              "      <th>X3</th>\n",
              "      <th>Y3</th>\n",
              "      <th>X4</th>\n",
              "      <th>Y4</th>\n",
              "      <th>X5</th>\n",
              "      <th>Y5</th>\n",
              "    </tr>\n",
              "  </thead>\n",
              "  <tbody>\n",
              "    <tr>\n",
              "      <th>0</th>\n",
              "      <td>1491</td>\n",
              "      <td>18</td>\n",
              "      <td>16.8</td>\n",
              "      <td>14</td>\n",
              "      <td>13.33</td>\n",
              "      <td>12</td>\n",
              "      <td>11.12</td>\n",
              "      <td>9</td>\n",
              "      <td>8.33</td>\n",
              "    </tr>\n",
              "    <tr>\n",
              "      <th>1</th>\n",
              "      <td>1491</td>\n",
              "      <td>[]</td>\n",
              "      <td>[]</td>\n",
              "      <td>[]</td>\n",
              "      <td>[]</td>\n",
              "      <td>[]</td>\n",
              "      <td>[]</td>\n",
              "      <td>[]</td>\n",
              "      <td>[]</td>\n",
              "    </tr>\n",
              "    <tr>\n",
              "      <th>2</th>\n",
              "      <td>2004</td>\n",
              "      <td>18</td>\n",
              "      <td>17.94</td>\n",
              "      <td>14</td>\n",
              "      <td>13.99</td>\n",
              "      <td>12</td>\n",
              "      <td>11.72</td>\n",
              "      <td>9</td>\n",
              "      <td>8.65</td>\n",
              "    </tr>\n",
              "    <tr>\n",
              "      <th>3</th>\n",
              "      <td>1493</td>\n",
              "      <td>[]</td>\n",
              "      <td>[]</td>\n",
              "      <td>[]</td>\n",
              "      <td>[]</td>\n",
              "      <td>[]</td>\n",
              "      <td>[]</td>\n",
              "      <td>[]</td>\n",
              "      <td>[]</td>\n",
              "    </tr>\n",
              "    <tr>\n",
              "      <th>4</th>\n",
              "      <td>1497</td>\n",
              "      <td>18</td>\n",
              "      <td>18</td>\n",
              "      <td>14</td>\n",
              "      <td>13.59</td>\n",
              "      <td>12</td>\n",
              "      <td>12.91</td>\n",
              "      <td>9</td>\n",
              "      <td>7.82</td>\n",
              "    </tr>\n",
              "  </tbody>\n",
              "</table>\n",
              "</div>\n",
              "      <button class=\"colab-df-convert\" onclick=\"convertToInteractive('df-2c9e76a9-9b9f-4a87-85fd-ad433878a449')\"\n",
              "              title=\"Convert this dataframe to an interactive table.\"\n",
              "              style=\"display:none;\">\n",
              "\n",
              "  <svg xmlns=\"http://www.w3.org/2000/svg\" height=\"24px\"viewBox=\"0 0 24 24\"\n",
              "       width=\"24px\">\n",
              "    <path d=\"M0 0h24v24H0V0z\" fill=\"none\"/>\n",
              "    <path d=\"M18.56 5.44l.94 2.06.94-2.06 2.06-.94-2.06-.94-.94-2.06-.94 2.06-2.06.94zm-11 1L8.5 8.5l.94-2.06 2.06-.94-2.06-.94L8.5 2.5l-.94 2.06-2.06.94zm10 10l.94 2.06.94-2.06 2.06-.94-2.06-.94-.94-2.06-.94 2.06-2.06.94z\"/><path d=\"M17.41 7.96l-1.37-1.37c-.4-.4-.92-.59-1.43-.59-.52 0-1.04.2-1.43.59L10.3 9.45l-7.72 7.72c-.78.78-.78 2.05 0 2.83L4 21.41c.39.39.9.59 1.41.59.51 0 1.02-.2 1.41-.59l7.78-7.78 2.81-2.81c.8-.78.8-2.07 0-2.86zM5.41 20L4 18.59l7.72-7.72 1.47 1.35L5.41 20z\"/>\n",
              "  </svg>\n",
              "      </button>\n",
              "\n",
              "\n",
              "\n",
              "    <div id=\"df-f3331756-83e3-40c0-ad07-f2f75362d728\">\n",
              "      <button class=\"colab-df-quickchart\" onclick=\"quickchart('df-f3331756-83e3-40c0-ad07-f2f75362d728')\"\n",
              "              title=\"Suggest charts.\"\n",
              "              style=\"display:none;\">\n",
              "\n",
              "<svg xmlns=\"http://www.w3.org/2000/svg\" height=\"24px\"viewBox=\"0 0 24 24\"\n",
              "     width=\"24px\">\n",
              "    <g>\n",
              "        <path d=\"M19 3H5c-1.1 0-2 .9-2 2v14c0 1.1.9 2 2 2h14c1.1 0 2-.9 2-2V5c0-1.1-.9-2-2-2zM9 17H7v-7h2v7zm4 0h-2V7h2v10zm4 0h-2v-4h2v4z\"/>\n",
              "    </g>\n",
              "</svg>\n",
              "      </button>\n",
              "    </div>\n",
              "\n",
              "<style>\n",
              "  .colab-df-quickchart {\n",
              "    background-color: #E8F0FE;\n",
              "    border: none;\n",
              "    border-radius: 50%;\n",
              "    cursor: pointer;\n",
              "    display: none;\n",
              "    fill: #1967D2;\n",
              "    height: 32px;\n",
              "    padding: 0 0 0 0;\n",
              "    width: 32px;\n",
              "  }\n",
              "\n",
              "  .colab-df-quickchart:hover {\n",
              "    background-color: #E2EBFA;\n",
              "    box-shadow: 0px 1px 2px rgba(60, 64, 67, 0.3), 0px 1px 3px 1px rgba(60, 64, 67, 0.15);\n",
              "    fill: #174EA6;\n",
              "  }\n",
              "\n",
              "  [theme=dark] .colab-df-quickchart {\n",
              "    background-color: #3B4455;\n",
              "    fill: #D2E3FC;\n",
              "  }\n",
              "\n",
              "  [theme=dark] .colab-df-quickchart:hover {\n",
              "    background-color: #434B5C;\n",
              "    box-shadow: 0px 1px 3px 1px rgba(0, 0, 0, 0.15);\n",
              "    filter: drop-shadow(0px 1px 2px rgba(0, 0, 0, 0.3));\n",
              "    fill: #FFFFFF;\n",
              "  }\n",
              "</style>\n",
              "\n",
              "    <script>\n",
              "      async function quickchart(key) {\n",
              "        const containerElement = document.querySelector('#' + key);\n",
              "        const charts = await google.colab.kernel.invokeFunction(\n",
              "            'suggestCharts', [key], {});\n",
              "      }\n",
              "    </script>\n",
              "\n",
              "      <script>\n",
              "\n",
              "function displayQuickchartButton(domScope) {\n",
              "  let quickchartButtonEl =\n",
              "    domScope.querySelector('#df-f3331756-83e3-40c0-ad07-f2f75362d728 button.colab-df-quickchart');\n",
              "  quickchartButtonEl.style.display =\n",
              "    google.colab.kernel.accessAllowed ? 'block' : 'none';\n",
              "}\n",
              "\n",
              "        displayQuickchartButton(document);\n",
              "      </script>\n",
              "      <style>\n",
              "    .colab-df-container {\n",
              "      display:flex;\n",
              "      flex-wrap:wrap;\n",
              "      gap: 12px;\n",
              "    }\n",
              "\n",
              "    .colab-df-convert {\n",
              "      background-color: #E8F0FE;\n",
              "      border: none;\n",
              "      border-radius: 50%;\n",
              "      cursor: pointer;\n",
              "      display: none;\n",
              "      fill: #1967D2;\n",
              "      height: 32px;\n",
              "      padding: 0 0 0 0;\n",
              "      width: 32px;\n",
              "    }\n",
              "\n",
              "    .colab-df-convert:hover {\n",
              "      background-color: #E2EBFA;\n",
              "      box-shadow: 0px 1px 2px rgba(60, 64, 67, 0.3), 0px 1px 3px 1px rgba(60, 64, 67, 0.15);\n",
              "      fill: #174EA6;\n",
              "    }\n",
              "\n",
              "    [theme=dark] .colab-df-convert {\n",
              "      background-color: #3B4455;\n",
              "      fill: #D2E3FC;\n",
              "    }\n",
              "\n",
              "    [theme=dark] .colab-df-convert:hover {\n",
              "      background-color: #434B5C;\n",
              "      box-shadow: 0px 1px 3px 1px rgba(0, 0, 0, 0.15);\n",
              "      filter: drop-shadow(0px 1px 2px rgba(0, 0, 0, 0.3));\n",
              "      fill: #FFFFFF;\n",
              "    }\n",
              "  </style>\n",
              "\n",
              "      <script>\n",
              "        const buttonEl =\n",
              "          document.querySelector('#df-2c9e76a9-9b9f-4a87-85fd-ad433878a449 button.colab-df-convert');\n",
              "        buttonEl.style.display =\n",
              "          google.colab.kernel.accessAllowed ? 'block' : 'none';\n",
              "\n",
              "        async function convertToInteractive(key) {\n",
              "          const element = document.querySelector('#df-2c9e76a9-9b9f-4a87-85fd-ad433878a449');\n",
              "          const dataTable =\n",
              "            await google.colab.kernel.invokeFunction('convertToInteractive',\n",
              "                                                     [key], {});\n",
              "          if (!dataTable) return;\n",
              "\n",
              "          const docLinkHtml = 'Like what you see? Visit the ' +\n",
              "            '<a target=\"_blank\" href=https://colab.research.google.com/notebooks/data_table.ipynb>data table notebook</a>'\n",
              "            + ' to learn more about interactive tables.';\n",
              "          element.innerHTML = '';\n",
              "          dataTable['output_type'] = 'display_data';\n",
              "          await google.colab.output.renderOutput(dataTable, element);\n",
              "          const docLink = document.createElement('div');\n",
              "          docLink.innerHTML = docLinkHtml;\n",
              "          element.appendChild(docLink);\n",
              "        }\n",
              "      </script>\n",
              "    </div>\n",
              "  </div>\n"
            ]
          },
          "metadata": {},
          "execution_count": 6
        }
      ]
    },
    {
      "cell_type": "code",
      "source": [
        "# Sample group data frame general information\n",
        "sample_group.info()"
      ],
      "metadata": {
        "colab": {
          "base_uri": "https://localhost:8080/"
        },
        "id": "_nSLAnK-p_1W",
        "outputId": "8c8f2e5b-4f8b-4249-9eb6-1c225ba173d5"
      },
      "execution_count": 7,
      "outputs": [
        {
          "output_type": "stream",
          "name": "stdout",
          "text": [
            "<class 'pandas.core.frame.DataFrame'>\n",
            "RangeIndex: 51 entries, 0 to 50\n",
            "Data columns (total 9 columns):\n",
            " #   Column  Non-Null Count  Dtype \n",
            "---  ------  --------------  ----- \n",
            " 0   Y1      51 non-null     int64 \n",
            " 1   X2      51 non-null     object\n",
            " 2   Y2      51 non-null     object\n",
            " 3   X3      51 non-null     object\n",
            " 4   Y3      51 non-null     object\n",
            " 5   X4      51 non-null     object\n",
            " 6   Y4      51 non-null     object\n",
            " 7   X5      51 non-null     object\n",
            " 8   Y5      51 non-null     object\n",
            "dtypes: int64(1), object(8)\n",
            "memory usage: 3.7+ KB\n"
          ]
        }
      ]
    },
    {
      "cell_type": "code",
      "source": [
        "# Convert all non numeric values to NaN\n",
        "sample_group = sample_group.apply(pd.to_numeric, errors='coerce')\n",
        "sample_group.head(num_rows_to_present)"
      ],
      "metadata": {
        "colab": {
          "base_uri": "https://localhost:8080/",
          "height": 206
        },
        "id": "36a_7yKjLVpb",
        "outputId": "052990a7-5918-49b2-dd76-c11052c1a7e6"
      },
      "execution_count": 8,
      "outputs": [
        {
          "output_type": "execute_result",
          "data": {
            "text/plain": [
              "     Y1    X2     Y2    X3     Y3    X4     Y4   X5    Y5\n",
              "0  1491  18.0  16.80  14.0  13.33  12.0  11.12  9.0  8.33\n",
              "1  1491   NaN    NaN   NaN    NaN   NaN    NaN  NaN   NaN\n",
              "2  2004  18.0  17.94  14.0  13.99  12.0  11.72  9.0  8.65\n",
              "3  1493   NaN    NaN   NaN    NaN   NaN    NaN  NaN   NaN\n",
              "4  1497  18.0  18.00  14.0  13.59  12.0  12.91  9.0  7.82"
            ],
            "text/html": [
              "\n",
              "\n",
              "  <div id=\"df-a7809f8f-e7d3-4604-a43e-1f476895d323\">\n",
              "    <div class=\"colab-df-container\">\n",
              "      <div>\n",
              "<style scoped>\n",
              "    .dataframe tbody tr th:only-of-type {\n",
              "        vertical-align: middle;\n",
              "    }\n",
              "\n",
              "    .dataframe tbody tr th {\n",
              "        vertical-align: top;\n",
              "    }\n",
              "\n",
              "    .dataframe thead th {\n",
              "        text-align: right;\n",
              "    }\n",
              "</style>\n",
              "<table border=\"1\" class=\"dataframe\">\n",
              "  <thead>\n",
              "    <tr style=\"text-align: right;\">\n",
              "      <th></th>\n",
              "      <th>Y1</th>\n",
              "      <th>X2</th>\n",
              "      <th>Y2</th>\n",
              "      <th>X3</th>\n",
              "      <th>Y3</th>\n",
              "      <th>X4</th>\n",
              "      <th>Y4</th>\n",
              "      <th>X5</th>\n",
              "      <th>Y5</th>\n",
              "    </tr>\n",
              "  </thead>\n",
              "  <tbody>\n",
              "    <tr>\n",
              "      <th>0</th>\n",
              "      <td>1491</td>\n",
              "      <td>18.0</td>\n",
              "      <td>16.80</td>\n",
              "      <td>14.0</td>\n",
              "      <td>13.33</td>\n",
              "      <td>12.0</td>\n",
              "      <td>11.12</td>\n",
              "      <td>9.0</td>\n",
              "      <td>8.33</td>\n",
              "    </tr>\n",
              "    <tr>\n",
              "      <th>1</th>\n",
              "      <td>1491</td>\n",
              "      <td>NaN</td>\n",
              "      <td>NaN</td>\n",
              "      <td>NaN</td>\n",
              "      <td>NaN</td>\n",
              "      <td>NaN</td>\n",
              "      <td>NaN</td>\n",
              "      <td>NaN</td>\n",
              "      <td>NaN</td>\n",
              "    </tr>\n",
              "    <tr>\n",
              "      <th>2</th>\n",
              "      <td>2004</td>\n",
              "      <td>18.0</td>\n",
              "      <td>17.94</td>\n",
              "      <td>14.0</td>\n",
              "      <td>13.99</td>\n",
              "      <td>12.0</td>\n",
              "      <td>11.72</td>\n",
              "      <td>9.0</td>\n",
              "      <td>8.65</td>\n",
              "    </tr>\n",
              "    <tr>\n",
              "      <th>3</th>\n",
              "      <td>1493</td>\n",
              "      <td>NaN</td>\n",
              "      <td>NaN</td>\n",
              "      <td>NaN</td>\n",
              "      <td>NaN</td>\n",
              "      <td>NaN</td>\n",
              "      <td>NaN</td>\n",
              "      <td>NaN</td>\n",
              "      <td>NaN</td>\n",
              "    </tr>\n",
              "    <tr>\n",
              "      <th>4</th>\n",
              "      <td>1497</td>\n",
              "      <td>18.0</td>\n",
              "      <td>18.00</td>\n",
              "      <td>14.0</td>\n",
              "      <td>13.59</td>\n",
              "      <td>12.0</td>\n",
              "      <td>12.91</td>\n",
              "      <td>9.0</td>\n",
              "      <td>7.82</td>\n",
              "    </tr>\n",
              "  </tbody>\n",
              "</table>\n",
              "</div>\n",
              "      <button class=\"colab-df-convert\" onclick=\"convertToInteractive('df-a7809f8f-e7d3-4604-a43e-1f476895d323')\"\n",
              "              title=\"Convert this dataframe to an interactive table.\"\n",
              "              style=\"display:none;\">\n",
              "\n",
              "  <svg xmlns=\"http://www.w3.org/2000/svg\" height=\"24px\"viewBox=\"0 0 24 24\"\n",
              "       width=\"24px\">\n",
              "    <path d=\"M0 0h24v24H0V0z\" fill=\"none\"/>\n",
              "    <path d=\"M18.56 5.44l.94 2.06.94-2.06 2.06-.94-2.06-.94-.94-2.06-.94 2.06-2.06.94zm-11 1L8.5 8.5l.94-2.06 2.06-.94-2.06-.94L8.5 2.5l-.94 2.06-2.06.94zm10 10l.94 2.06.94-2.06 2.06-.94-2.06-.94-.94-2.06-.94 2.06-2.06.94z\"/><path d=\"M17.41 7.96l-1.37-1.37c-.4-.4-.92-.59-1.43-.59-.52 0-1.04.2-1.43.59L10.3 9.45l-7.72 7.72c-.78.78-.78 2.05 0 2.83L4 21.41c.39.39.9.59 1.41.59.51 0 1.02-.2 1.41-.59l7.78-7.78 2.81-2.81c.8-.78.8-2.07 0-2.86zM5.41 20L4 18.59l7.72-7.72 1.47 1.35L5.41 20z\"/>\n",
              "  </svg>\n",
              "      </button>\n",
              "\n",
              "\n",
              "\n",
              "    <div id=\"df-0f885a76-0f52-4ee7-bc43-a7d7e29959a0\">\n",
              "      <button class=\"colab-df-quickchart\" onclick=\"quickchart('df-0f885a76-0f52-4ee7-bc43-a7d7e29959a0')\"\n",
              "              title=\"Suggest charts.\"\n",
              "              style=\"display:none;\">\n",
              "\n",
              "<svg xmlns=\"http://www.w3.org/2000/svg\" height=\"24px\"viewBox=\"0 0 24 24\"\n",
              "     width=\"24px\">\n",
              "    <g>\n",
              "        <path d=\"M19 3H5c-1.1 0-2 .9-2 2v14c0 1.1.9 2 2 2h14c1.1 0 2-.9 2-2V5c0-1.1-.9-2-2-2zM9 17H7v-7h2v7zm4 0h-2V7h2v10zm4 0h-2v-4h2v4z\"/>\n",
              "    </g>\n",
              "</svg>\n",
              "      </button>\n",
              "    </div>\n",
              "\n",
              "<style>\n",
              "  .colab-df-quickchart {\n",
              "    background-color: #E8F0FE;\n",
              "    border: none;\n",
              "    border-radius: 50%;\n",
              "    cursor: pointer;\n",
              "    display: none;\n",
              "    fill: #1967D2;\n",
              "    height: 32px;\n",
              "    padding: 0 0 0 0;\n",
              "    width: 32px;\n",
              "  }\n",
              "\n",
              "  .colab-df-quickchart:hover {\n",
              "    background-color: #E2EBFA;\n",
              "    box-shadow: 0px 1px 2px rgba(60, 64, 67, 0.3), 0px 1px 3px 1px rgba(60, 64, 67, 0.15);\n",
              "    fill: #174EA6;\n",
              "  }\n",
              "\n",
              "  [theme=dark] .colab-df-quickchart {\n",
              "    background-color: #3B4455;\n",
              "    fill: #D2E3FC;\n",
              "  }\n",
              "\n",
              "  [theme=dark] .colab-df-quickchart:hover {\n",
              "    background-color: #434B5C;\n",
              "    box-shadow: 0px 1px 3px 1px rgba(0, 0, 0, 0.15);\n",
              "    filter: drop-shadow(0px 1px 2px rgba(0, 0, 0, 0.3));\n",
              "    fill: #FFFFFF;\n",
              "  }\n",
              "</style>\n",
              "\n",
              "    <script>\n",
              "      async function quickchart(key) {\n",
              "        const containerElement = document.querySelector('#' + key);\n",
              "        const charts = await google.colab.kernel.invokeFunction(\n",
              "            'suggestCharts', [key], {});\n",
              "      }\n",
              "    </script>\n",
              "\n",
              "      <script>\n",
              "\n",
              "function displayQuickchartButton(domScope) {\n",
              "  let quickchartButtonEl =\n",
              "    domScope.querySelector('#df-0f885a76-0f52-4ee7-bc43-a7d7e29959a0 button.colab-df-quickchart');\n",
              "  quickchartButtonEl.style.display =\n",
              "    google.colab.kernel.accessAllowed ? 'block' : 'none';\n",
              "}\n",
              "\n",
              "        displayQuickchartButton(document);\n",
              "      </script>\n",
              "      <style>\n",
              "    .colab-df-container {\n",
              "      display:flex;\n",
              "      flex-wrap:wrap;\n",
              "      gap: 12px;\n",
              "    }\n",
              "\n",
              "    .colab-df-convert {\n",
              "      background-color: #E8F0FE;\n",
              "      border: none;\n",
              "      border-radius: 50%;\n",
              "      cursor: pointer;\n",
              "      display: none;\n",
              "      fill: #1967D2;\n",
              "      height: 32px;\n",
              "      padding: 0 0 0 0;\n",
              "      width: 32px;\n",
              "    }\n",
              "\n",
              "    .colab-df-convert:hover {\n",
              "      background-color: #E2EBFA;\n",
              "      box-shadow: 0px 1px 2px rgba(60, 64, 67, 0.3), 0px 1px 3px 1px rgba(60, 64, 67, 0.15);\n",
              "      fill: #174EA6;\n",
              "    }\n",
              "\n",
              "    [theme=dark] .colab-df-convert {\n",
              "      background-color: #3B4455;\n",
              "      fill: #D2E3FC;\n",
              "    }\n",
              "\n",
              "    [theme=dark] .colab-df-convert:hover {\n",
              "      background-color: #434B5C;\n",
              "      box-shadow: 0px 1px 3px 1px rgba(0, 0, 0, 0.15);\n",
              "      filter: drop-shadow(0px 1px 2px rgba(0, 0, 0, 0.3));\n",
              "      fill: #FFFFFF;\n",
              "    }\n",
              "  </style>\n",
              "\n",
              "      <script>\n",
              "        const buttonEl =\n",
              "          document.querySelector('#df-a7809f8f-e7d3-4604-a43e-1f476895d323 button.colab-df-convert');\n",
              "        buttonEl.style.display =\n",
              "          google.colab.kernel.accessAllowed ? 'block' : 'none';\n",
              "\n",
              "        async function convertToInteractive(key) {\n",
              "          const element = document.querySelector('#df-a7809f8f-e7d3-4604-a43e-1f476895d323');\n",
              "          const dataTable =\n",
              "            await google.colab.kernel.invokeFunction('convertToInteractive',\n",
              "                                                     [key], {});\n",
              "          if (!dataTable) return;\n",
              "\n",
              "          const docLinkHtml = 'Like what you see? Visit the ' +\n",
              "            '<a target=\"_blank\" href=https://colab.research.google.com/notebooks/data_table.ipynb>data table notebook</a>'\n",
              "            + ' to learn more about interactive tables.';\n",
              "          element.innerHTML = '';\n",
              "          dataTable['output_type'] = 'display_data';\n",
              "          await google.colab.output.renderOutput(dataTable, element);\n",
              "          const docLink = document.createElement('div');\n",
              "          docLink.innerHTML = docLinkHtml;\n",
              "          element.appendChild(docLink);\n",
              "        }\n",
              "      </script>\n",
              "    </div>\n",
              "  </div>\n"
            ]
          },
          "metadata": {},
          "execution_count": 8
        }
      ]
    },
    {
      "cell_type": "code",
      "source": [
        "# Count the NaN appearence\n",
        "count_non_numeric_values = sample_group.isnull().sum()\n",
        "print(f\"Number of non numeric values in each column: \\n{count_non_numeric_values}\")"
      ],
      "metadata": {
        "colab": {
          "base_uri": "https://localhost:8080/"
        },
        "id": "XzePyWErZyjj",
        "outputId": "d0a39866-e5f8-49e6-84b8-ec2eeae355ea"
      },
      "execution_count": 9,
      "outputs": [
        {
          "output_type": "stream",
          "name": "stdout",
          "text": [
            "Number of non numeric values in each column: \n",
            "Y1    0\n",
            "X2    4\n",
            "Y2    4\n",
            "X3    4\n",
            "Y3    4\n",
            "X4    4\n",
            "Y4    4\n",
            "X5    4\n",
            "Y5    4\n",
            "dtype: int64\n"
          ]
        }
      ]
    },
    {
      "cell_type": "code",
      "source": [
        "# Replace all NaN values with some reasonable value that will maintain each column mean\n",
        "means = sample_group.mean()\n",
        "print(means)\n",
        "for column in sample_group.columns:\n",
        "    is_nan = pd.to_numeric(sample_group[column]).isnull()\n",
        "    sample_group.loc[is_nan, column] = means[column]\n",
        "\n",
        "sample_group.head(num_rows_to_present)"
      ],
      "metadata": {
        "colab": {
          "base_uri": "https://localhost:8080/",
          "height": 388
        },
        "id": "IflhVNbjWXu7",
        "outputId": "8960153f-1b84-41b6-8f2b-7bc900b0bdf2"
      },
      "execution_count": 10,
      "outputs": [
        {
          "output_type": "stream",
          "name": "stdout",
          "text": [
            "Y1    1504.960784\n",
            "X2      18.000000\n",
            "Y2      17.425957\n",
            "X3      14.000000\n",
            "Y3      13.452340\n",
            "X4      12.000000\n",
            "Y4      11.673830\n",
            "X5       9.000000\n",
            "Y5       8.346383\n",
            "dtype: float64\n"
          ]
        },
        {
          "output_type": "execute_result",
          "data": {
            "text/plain": [
              "       Y1    X2         Y2    X3        Y3    X4        Y4   X5        Y5\n",
              "0  1491.0  18.0  16.800000  14.0  13.33000  12.0  11.12000  9.0  8.330000\n",
              "1  1491.0  18.0  17.425957  14.0  13.45234  12.0  11.67383  9.0  8.346383\n",
              "2  2004.0  18.0  17.940000  14.0  13.99000  12.0  11.72000  9.0  8.650000\n",
              "3  1493.0  18.0  17.425957  14.0  13.45234  12.0  11.67383  9.0  8.346383\n",
              "4  1497.0  18.0  18.000000  14.0  13.59000  12.0  12.91000  9.0  7.820000"
            ],
            "text/html": [
              "\n",
              "\n",
              "  <div id=\"df-96b74a9a-f02d-45e7-8067-698e30c0b67d\">\n",
              "    <div class=\"colab-df-container\">\n",
              "      <div>\n",
              "<style scoped>\n",
              "    .dataframe tbody tr th:only-of-type {\n",
              "        vertical-align: middle;\n",
              "    }\n",
              "\n",
              "    .dataframe tbody tr th {\n",
              "        vertical-align: top;\n",
              "    }\n",
              "\n",
              "    .dataframe thead th {\n",
              "        text-align: right;\n",
              "    }\n",
              "</style>\n",
              "<table border=\"1\" class=\"dataframe\">\n",
              "  <thead>\n",
              "    <tr style=\"text-align: right;\">\n",
              "      <th></th>\n",
              "      <th>Y1</th>\n",
              "      <th>X2</th>\n",
              "      <th>Y2</th>\n",
              "      <th>X3</th>\n",
              "      <th>Y3</th>\n",
              "      <th>X4</th>\n",
              "      <th>Y4</th>\n",
              "      <th>X5</th>\n",
              "      <th>Y5</th>\n",
              "    </tr>\n",
              "  </thead>\n",
              "  <tbody>\n",
              "    <tr>\n",
              "      <th>0</th>\n",
              "      <td>1491.0</td>\n",
              "      <td>18.0</td>\n",
              "      <td>16.800000</td>\n",
              "      <td>14.0</td>\n",
              "      <td>13.33000</td>\n",
              "      <td>12.0</td>\n",
              "      <td>11.12000</td>\n",
              "      <td>9.0</td>\n",
              "      <td>8.330000</td>\n",
              "    </tr>\n",
              "    <tr>\n",
              "      <th>1</th>\n",
              "      <td>1491.0</td>\n",
              "      <td>18.0</td>\n",
              "      <td>17.425957</td>\n",
              "      <td>14.0</td>\n",
              "      <td>13.45234</td>\n",
              "      <td>12.0</td>\n",
              "      <td>11.67383</td>\n",
              "      <td>9.0</td>\n",
              "      <td>8.346383</td>\n",
              "    </tr>\n",
              "    <tr>\n",
              "      <th>2</th>\n",
              "      <td>2004.0</td>\n",
              "      <td>18.0</td>\n",
              "      <td>17.940000</td>\n",
              "      <td>14.0</td>\n",
              "      <td>13.99000</td>\n",
              "      <td>12.0</td>\n",
              "      <td>11.72000</td>\n",
              "      <td>9.0</td>\n",
              "      <td>8.650000</td>\n",
              "    </tr>\n",
              "    <tr>\n",
              "      <th>3</th>\n",
              "      <td>1493.0</td>\n",
              "      <td>18.0</td>\n",
              "      <td>17.425957</td>\n",
              "      <td>14.0</td>\n",
              "      <td>13.45234</td>\n",
              "      <td>12.0</td>\n",
              "      <td>11.67383</td>\n",
              "      <td>9.0</td>\n",
              "      <td>8.346383</td>\n",
              "    </tr>\n",
              "    <tr>\n",
              "      <th>4</th>\n",
              "      <td>1497.0</td>\n",
              "      <td>18.0</td>\n",
              "      <td>18.000000</td>\n",
              "      <td>14.0</td>\n",
              "      <td>13.59000</td>\n",
              "      <td>12.0</td>\n",
              "      <td>12.91000</td>\n",
              "      <td>9.0</td>\n",
              "      <td>7.820000</td>\n",
              "    </tr>\n",
              "  </tbody>\n",
              "</table>\n",
              "</div>\n",
              "      <button class=\"colab-df-convert\" onclick=\"convertToInteractive('df-96b74a9a-f02d-45e7-8067-698e30c0b67d')\"\n",
              "              title=\"Convert this dataframe to an interactive table.\"\n",
              "              style=\"display:none;\">\n",
              "\n",
              "  <svg xmlns=\"http://www.w3.org/2000/svg\" height=\"24px\"viewBox=\"0 0 24 24\"\n",
              "       width=\"24px\">\n",
              "    <path d=\"M0 0h24v24H0V0z\" fill=\"none\"/>\n",
              "    <path d=\"M18.56 5.44l.94 2.06.94-2.06 2.06-.94-2.06-.94-.94-2.06-.94 2.06-2.06.94zm-11 1L8.5 8.5l.94-2.06 2.06-.94-2.06-.94L8.5 2.5l-.94 2.06-2.06.94zm10 10l.94 2.06.94-2.06 2.06-.94-2.06-.94-.94-2.06-.94 2.06-2.06.94z\"/><path d=\"M17.41 7.96l-1.37-1.37c-.4-.4-.92-.59-1.43-.59-.52 0-1.04.2-1.43.59L10.3 9.45l-7.72 7.72c-.78.78-.78 2.05 0 2.83L4 21.41c.39.39.9.59 1.41.59.51 0 1.02-.2 1.41-.59l7.78-7.78 2.81-2.81c.8-.78.8-2.07 0-2.86zM5.41 20L4 18.59l7.72-7.72 1.47 1.35L5.41 20z\"/>\n",
              "  </svg>\n",
              "      </button>\n",
              "\n",
              "\n",
              "\n",
              "    <div id=\"df-bbd19fba-2b0c-4f6f-bc23-f0461fa39489\">\n",
              "      <button class=\"colab-df-quickchart\" onclick=\"quickchart('df-bbd19fba-2b0c-4f6f-bc23-f0461fa39489')\"\n",
              "              title=\"Suggest charts.\"\n",
              "              style=\"display:none;\">\n",
              "\n",
              "<svg xmlns=\"http://www.w3.org/2000/svg\" height=\"24px\"viewBox=\"0 0 24 24\"\n",
              "     width=\"24px\">\n",
              "    <g>\n",
              "        <path d=\"M19 3H5c-1.1 0-2 .9-2 2v14c0 1.1.9 2 2 2h14c1.1 0 2-.9 2-2V5c0-1.1-.9-2-2-2zM9 17H7v-7h2v7zm4 0h-2V7h2v10zm4 0h-2v-4h2v4z\"/>\n",
              "    </g>\n",
              "</svg>\n",
              "      </button>\n",
              "    </div>\n",
              "\n",
              "<style>\n",
              "  .colab-df-quickchart {\n",
              "    background-color: #E8F0FE;\n",
              "    border: none;\n",
              "    border-radius: 50%;\n",
              "    cursor: pointer;\n",
              "    display: none;\n",
              "    fill: #1967D2;\n",
              "    height: 32px;\n",
              "    padding: 0 0 0 0;\n",
              "    width: 32px;\n",
              "  }\n",
              "\n",
              "  .colab-df-quickchart:hover {\n",
              "    background-color: #E2EBFA;\n",
              "    box-shadow: 0px 1px 2px rgba(60, 64, 67, 0.3), 0px 1px 3px 1px rgba(60, 64, 67, 0.15);\n",
              "    fill: #174EA6;\n",
              "  }\n",
              "\n",
              "  [theme=dark] .colab-df-quickchart {\n",
              "    background-color: #3B4455;\n",
              "    fill: #D2E3FC;\n",
              "  }\n",
              "\n",
              "  [theme=dark] .colab-df-quickchart:hover {\n",
              "    background-color: #434B5C;\n",
              "    box-shadow: 0px 1px 3px 1px rgba(0, 0, 0, 0.15);\n",
              "    filter: drop-shadow(0px 1px 2px rgba(0, 0, 0, 0.3));\n",
              "    fill: #FFFFFF;\n",
              "  }\n",
              "</style>\n",
              "\n",
              "    <script>\n",
              "      async function quickchart(key) {\n",
              "        const containerElement = document.querySelector('#' + key);\n",
              "        const charts = await google.colab.kernel.invokeFunction(\n",
              "            'suggestCharts', [key], {});\n",
              "      }\n",
              "    </script>\n",
              "\n",
              "      <script>\n",
              "\n",
              "function displayQuickchartButton(domScope) {\n",
              "  let quickchartButtonEl =\n",
              "    domScope.querySelector('#df-bbd19fba-2b0c-4f6f-bc23-f0461fa39489 button.colab-df-quickchart');\n",
              "  quickchartButtonEl.style.display =\n",
              "    google.colab.kernel.accessAllowed ? 'block' : 'none';\n",
              "}\n",
              "\n",
              "        displayQuickchartButton(document);\n",
              "      </script>\n",
              "      <style>\n",
              "    .colab-df-container {\n",
              "      display:flex;\n",
              "      flex-wrap:wrap;\n",
              "      gap: 12px;\n",
              "    }\n",
              "\n",
              "    .colab-df-convert {\n",
              "      background-color: #E8F0FE;\n",
              "      border: none;\n",
              "      border-radius: 50%;\n",
              "      cursor: pointer;\n",
              "      display: none;\n",
              "      fill: #1967D2;\n",
              "      height: 32px;\n",
              "      padding: 0 0 0 0;\n",
              "      width: 32px;\n",
              "    }\n",
              "\n",
              "    .colab-df-convert:hover {\n",
              "      background-color: #E2EBFA;\n",
              "      box-shadow: 0px 1px 2px rgba(60, 64, 67, 0.3), 0px 1px 3px 1px rgba(60, 64, 67, 0.15);\n",
              "      fill: #174EA6;\n",
              "    }\n",
              "\n",
              "    [theme=dark] .colab-df-convert {\n",
              "      background-color: #3B4455;\n",
              "      fill: #D2E3FC;\n",
              "    }\n",
              "\n",
              "    [theme=dark] .colab-df-convert:hover {\n",
              "      background-color: #434B5C;\n",
              "      box-shadow: 0px 1px 3px 1px rgba(0, 0, 0, 0.15);\n",
              "      filter: drop-shadow(0px 1px 2px rgba(0, 0, 0, 0.3));\n",
              "      fill: #FFFFFF;\n",
              "    }\n",
              "  </style>\n",
              "\n",
              "      <script>\n",
              "        const buttonEl =\n",
              "          document.querySelector('#df-96b74a9a-f02d-45e7-8067-698e30c0b67d button.colab-df-convert');\n",
              "        buttonEl.style.display =\n",
              "          google.colab.kernel.accessAllowed ? 'block' : 'none';\n",
              "\n",
              "        async function convertToInteractive(key) {\n",
              "          const element = document.querySelector('#df-96b74a9a-f02d-45e7-8067-698e30c0b67d');\n",
              "          const dataTable =\n",
              "            await google.colab.kernel.invokeFunction('convertToInteractive',\n",
              "                                                     [key], {});\n",
              "          if (!dataTable) return;\n",
              "\n",
              "          const docLinkHtml = 'Like what you see? Visit the ' +\n",
              "            '<a target=\"_blank\" href=https://colab.research.google.com/notebooks/data_table.ipynb>data table notebook</a>'\n",
              "            + ' to learn more about interactive tables.';\n",
              "          element.innerHTML = '';\n",
              "          dataTable['output_type'] = 'display_data';\n",
              "          await google.colab.output.renderOutput(dataTable, element);\n",
              "          const docLink = document.createElement('div');\n",
              "          docLink.innerHTML = docLinkHtml;\n",
              "          element.appendChild(docLink);\n",
              "        }\n",
              "      </script>\n",
              "    </div>\n",
              "  </div>\n"
            ]
          },
          "metadata": {},
          "execution_count": 10
        }
      ]
    },
    {
      "cell_type": "code",
      "source": [
        "# Present the summary statistics for each column\n",
        "summary_stats = sample_group.describe()\n",
        "print(summary_stats)"
      ],
      "metadata": {
        "colab": {
          "base_uri": "https://localhost:8080/"
        },
        "id": "hfNpwlHbX0kP",
        "outputId": "381dcb91-17f2-4cf8-e413-fe0d00363367"
      },
      "execution_count": 11,
      "outputs": [
        {
          "output_type": "stream",
          "name": "stdout",
          "text": [
            "                Y1    X2         Y2    X3        Y3    X4         Y4    X5  \\\n",
            "count    51.000000  51.0  51.000000  51.0  51.00000  51.0  51.000000  51.0   \n",
            "mean   1504.960784  18.0  17.425957  14.0  13.45234  12.0  11.673830   9.0   \n",
            "std      71.384861   0.0   4.101133   0.0   0.11868   0.0   1.176656   0.0   \n",
            "min    1487.000000  18.0   7.870000  14.0  13.19000  12.0   9.100000   9.0   \n",
            "25%    1493.000000  18.0  15.455000  14.0  13.40000  12.0  11.070000   9.0   \n",
            "50%    1495.000000  18.0  17.425957  14.0  13.45234  12.0  11.540000   9.0   \n",
            "75%    1497.000000  18.0  20.180000  14.0  13.51500  12.0  12.350000   9.0   \n",
            "max    2004.000000  18.0  25.260000  14.0  13.99000  12.0  14.560000   9.0   \n",
            "\n",
            "              Y5  \n",
            "count  51.000000  \n",
            "mean    8.346383  \n",
            "std     0.283728  \n",
            "min     7.810000  \n",
            "25%     8.210000  \n",
            "50%     8.340000  \n",
            "75%     8.505000  \n",
            "max     9.160000  \n"
          ]
        }
      ]
    },
    {
      "cell_type": "code",
      "source": [
        "# Recheck elements type\n",
        "sample_group_cols_type = sample_group.dtypes\n",
        "print(f\"Data type of each column: \\n{sample_group_cols_type}\")"
      ],
      "metadata": {
        "colab": {
          "base_uri": "https://localhost:8080/"
        },
        "id": "9Y0khRBlm_SW",
        "outputId": "d200f8df-a702-42c0-e165-e7a077ce8f54"
      },
      "execution_count": 12,
      "outputs": [
        {
          "output_type": "stream",
          "name": "stdout",
          "text": [
            "Data type of each column: \n",
            "Y1    float64\n",
            "X2    float64\n",
            "Y2    float64\n",
            "X3    float64\n",
            "Y3    float64\n",
            "X4    float64\n",
            "Y4    float64\n",
            "X5    float64\n",
            "Y5    float64\n",
            "dtype: object\n"
          ]
        }
      ]
    },
    {
      "cell_type": "markdown",
      "source": [
        "## **Note #1**\n",
        "${\\circ}$ The data shape is 51x9. Each row represent one of the tested devices while the columns represent the values of the different dependent features ${Y_i \\space (i=1,2,3,4,5)}$, and their corresponding independent variables ${X_i \\space (i=2,3,4,5)}$.\n",
        "\n",
        "${\\circ}$ Initially the data set contained some non numeric values. In order to fill those values with a reasonable values, for each column (feature or variable) we replaced them with the mean value that calculated according to the other numeric entries.\n",
        "\n",
        "${\\circ}$ We can describe the data in the following way:\n",
        "- ${X_i}$ represent a specific attribute of the device. Each attribute is independent in the other attributes.\n",
        "- ${Y_i}$ is the value obtained from a specific measurement during the test of the device, while the device has the attribute ${X_i}$\n",
        "<br>\n",
        "- Because for each ${i=2,3,4,5}$, ${X_i}$ is a constant, we know that all the 51 devices have the exact same value per attribute, i.e the measurement ${Y_i}$ have been taken from 51 different devices that have the same ${X_i}$."
      ],
      "metadata": {
        "id": "rUsrHYM1dRhN"
      }
    },
    {
      "cell_type": "markdown",
      "source": [
        "# **Section 2- Data Preprocessing**\n",
        "\n",
        " Feature scaling refers to putting the feature values into the same range. Scaling is extremely important for the algorithms considering the distances between observations.\n",
        " A technique to scale data is to squeeze it into a predefined interval.\n",
        "\n",
        " It can be done in two ways:\n",
        "\n",
        " 1) Normalization: The feature values are mapped into the [0, 1] range\n",
        " <br>\n",
        " 2) Standardization: Transform the features to have a mean of 0 and a standard deviation of 1.\n",
        "\n",
        " For sample group, we will use the Standardization method."
      ],
      "metadata": {
        "id": "qEshJUiSypmb"
      }
    },
    {
      "cell_type": "code",
      "source": [
        "# Separate the features (Yi columns) from the rest of the data\n",
        "features_columns = ['Y1', 'Y2', 'Y3', 'Y4', 'Y5']\n",
        "\n",
        "# Calculate mean and standard deviation for each feature column\n",
        "means = sample_group[features_columns].mean()\n",
        "stds = sample_group[features_columns].std()\n",
        "\n",
        "# Scale the Yi columns (features) with zero mean and variance of 1\n",
        "scaled_features = (sample_group[features_columns] - means) / stds\n",
        "\n",
        "# Combine the scaled features with the X columns\n",
        "X_columns = ['X2', 'X3', 'X4', 'X5']\n",
        "sample_group = pd.concat([scaled_features, sample_group[X_columns]], axis=1)"
      ],
      "metadata": {
        "id": "9kUxgAcjxPNR"
      },
      "execution_count": 84,
      "outputs": []
    },
    {
      "cell_type": "markdown",
      "source": [
        "# **Section 3- Data Visualization and Explanation**\n",
        "In this section we will visualize the data and explain the observed paterns or trends.\n",
        "\n",
        "In this type of problem, helpful visualizations types can be the following:\n",
        "\n",
        "1) Scatter plot: Will help us understand the relationship between ${X_i}$ and ${Y_i}$ by plotting **all the points** in our data\n",
        "<br>\n",
        "2) Box plot: Will present the distribution for each ${Y_i}$ column.\n",
        "\n",
        "Because the feature ${Y_1}$ has no corresponding variable ${X_1}$, we will visualize it separately.\n",
        "<br>\n",
        "In such a case, it would be **unuseful** to present the scatter plot in respect to some ${X_i}$ (which gives us some information about the correlation between ${Y_1}$ and ${X_i}$), but visualizing the elements distribution could help.\n",
        "\n",
        "Another important thing is that all the features ${Y_i}$ are depend in each other, thus it make sense to create a scatter plot between them."
      ],
      "metadata": {
        "id": "RTcdQ2nIz0sY"
      }
    },
    {
      "cell_type": "code",
      "source": [
        "# Scatter plot for features with corresponding variables\n",
        "x_columns = ['X2', 'X3', 'X4', 'X5']\n",
        "y_columns = ['Y2', 'Y3', 'Y4', 'Y5']\n",
        "\n",
        "for x_col, y_col in zip(x_columns, y_columns):\n",
        "    plt.scatter(sample_group[x_col], sample_group[y_col], label=f'{x_col} vs {y_col}')\n",
        "\n",
        "plt.xlabel('X Variables')\n",
        "plt.ylabel('Y Features')\n",
        "plt.legend()\n",
        "plt.title('Scatter Plot of (Xi, Yi) Pairs')\n",
        "plt.grid(True)\n",
        "\n",
        "plt.show()"
      ],
      "metadata": {
        "colab": {
          "base_uri": "https://localhost:8080/",
          "height": 472
        },
        "id": "QqZVhZKXnSNc",
        "outputId": "4702d531-f2eb-42a2-aef7-60b505eb4fda"
      },
      "execution_count": 85,
      "outputs": [
        {
          "output_type": "display_data",
          "data": {
            "text/plain": [
              "<Figure size 640x480 with 1 Axes>"
            ],
            "image/png": "[encoded data removed]"
          },
          "metadata": {}
        }
      ]
    },
    {
      "cell_type": "code",
      "source": [
        "# Box plot for features with corresponding variables\n",
        "# Create a new DataFrame for Yi columns except Y1 and rename the columns\n",
        "sample_group_Y = sample_group[y_columns].copy()\n",
        "\n",
        "sample_group_Y.plot(kind='box',xlabel='Features', ylabel='Data Distribution', title='Box Plot for Features with Corresponding Variables');"
      ],
      "metadata": {
        "colab": {
          "base_uri": "https://localhost:8080/",
          "height": 472
        },
        "id": "nbjsj3izGnpX",
        "outputId": "53aa9dca-8f13-41f3-b41a-7e07aa2f4752"
      },
      "execution_count": 86,
      "outputs": [
        {
          "output_type": "display_data",
          "data": {
            "text/plain": [
              "<Figure size 640x480 with 1 Axes>"
            ],
            "image/png": "[encoded data removed]"
          },
          "metadata": {}
        }
      ]
    },
    {
      "cell_type": "code",
      "source": [
        "# Density function of the feature Y1\n",
        "sample_group['Y1'].plot.density(grid=True, xlabel='Y1 Elements Values', title='Density Function of the Feature Y1');"
      ],
      "metadata": {
        "colab": {
          "base_uri": "https://localhost:8080/",
          "height": 452
        },
        "id": "ysKtWEiBG3Xo",
        "outputId": "fb3d4fde-1760-4947-ffaf-1ddcc8a396b6"
      },
      "execution_count": 87,
      "outputs": [
        {
          "output_type": "display_data",
          "data": {
            "text/plain": [
              "<Figure size 640x480 with 1 Axes>"
            ],
            "image/png": "[encoded data removed]"
          },
          "metadata": {}
        }
      ]
    },
    {
      "cell_type": "code",
      "source": [
        "# Box plot for the feature Y1\n",
        "sample_group['Y1'].plot(kind='box',xlabel='Feature', ylabel='Data Distribution', title='Box Plot for Y1');"
      ],
      "metadata": {
        "colab": {
          "base_uri": "https://localhost:8080/",
          "height": 472
        },
        "id": "RpesCSWX9lVS",
        "outputId": "790bf81d-0dd6-4522-cde4-d9f9d9a9906d"
      },
      "execution_count": 88,
      "outputs": [
        {
          "output_type": "display_data",
          "data": {
            "text/plain": [
              "<Figure size 640x480 with 1 Axes>"
            ],
            "image/png": "[encoded data removed]"
          },
          "metadata": {}
        }
      ]
    },
    {
      "cell_type": "code",
      "source": [
        "# Display the number of elements per value in Y1\n",
        "count_Y1_elements = sample_group.groupby('Y1').size()\n",
        "count_Y1_elements"
      ],
      "metadata": {
        "colab": {
          "base_uri": "https://localhost:8080/"
        },
        "id": "HwWOe-z4-jRm",
        "outputId": "0e334363-33f8-49ca-f176-730d4edeb473"
      },
      "execution_count": 89,
      "outputs": [
        {
          "output_type": "execute_result",
          "data": {
            "text/plain": [
              "Y1\n",
              "-0.251605    1\n",
              "-0.237596    2\n",
              "-0.195571    7\n",
              "-0.181562    1\n",
              "-0.167554    7\n",
              "-0.153545    5\n",
              "-0.139536    6\n",
              "-0.125528    6\n",
              "-0.111519    5\n",
              "-0.097511    4\n",
              "-0.083502    1\n",
              "-0.069494    2\n",
              "-0.055485    1\n",
              "-0.027468    1\n",
              " 0.070592    1\n",
              " 6.990827    1\n",
              "dtype: int64"
            ]
          },
          "metadata": {},
          "execution_count": 89
        }
      ]
    },
    {
      "cell_type": "code",
      "source": [
        "# Find the number of row that hasthe highest Y1 value\n",
        "highest_value_in_Y1 = sample_group['Y1'].max()\n",
        "row_num_with_highest_Y1 = sample_group.loc[sample_group['Y1'] == highest_value_in_Y1].index[0]\n",
        "print(f' The row with highest value for the feature Y1 in sample_group: {row_num_with_highest_Y1}')"
      ],
      "metadata": {
        "colab": {
          "base_uri": "https://localhost:8080/"
        },
        "id": "dsFpVr7kXoeE",
        "outputId": "e9d16773-ec56-48ea-b9ce-c66ed6f8398c"
      },
      "execution_count": 90,
      "outputs": [
        {
          "output_type": "stream",
          "name": "stdout",
          "text": [
            " The row with highest value for the feature Y1 in sample_group: 2\n"
          ]
        }
      ]
    },
    {
      "cell_type": "code",
      "source": [
        "# Calculating total number of different features pairs according to the Binomial coefficient (choosing 2 out of 5 elements)\n",
        "num_of_feature_pairs = 10\n",
        "\n",
        "features = ['Y1', 'Y2', 'Y3', 'Y4', 'Y5']\n",
        "\n",
        "# Create subplots for all combinations of features\n",
        "fig, axes = plt.subplots(2, int(num_of_feature_pairs/2), figsize=(12, 6))\n",
        "fig.suptitle(\"Scatter Plots of Feature Pairs\", fontsize=16, y=1.02)\n",
        "\n",
        "# Loop over rows and columns for subplots\n",
        "plt_row = 0\n",
        "plt_col = 0\n",
        "for i in range(len(features)-1):\n",
        "    for j in range(i+1,len(features)):\n",
        "\n",
        "        # Get the names of the features to be plotted\n",
        "        y1_feature = features[i]\n",
        "        y2_feature = features[j]\n",
        "\n",
        "        # Plot the scatter plot of Yi vs Yj\n",
        "        axes[plt_row, plt_col].scatter(sample_group[y1_feature], sample_group[y2_feature])\n",
        "\n",
        "        # Set axis labels and subplot titles\n",
        "        axes[plt_row, plt_col].set_xlabel(y1_feature)\n",
        "        axes[plt_row, plt_col].set_ylabel(y2_feature)\n",
        "\n",
        "        plt_col = (plt_col + 1) % len(features)\n",
        "        if plt_col == 0:\n",
        "          plt_row += 1\n",
        "\n",
        "# Adjust layout to prevent overlapping of subplots\n",
        "plt.tight_layout()\n",
        "\n",
        "plt.show()"
      ],
      "metadata": {
        "colab": {
          "base_uri": "https://localhost:8080/",
          "height": 633
        },
        "id": "gIrEnuTZneZ3",
        "outputId": "d9dff4de-7e55-4ce8-c45d-55e39799603a"
      },
      "execution_count": 91,
      "outputs": [
        {
          "output_type": "display_data",
          "data": {
            "text/plain": [
              "<Figure size 1200x600 with 10 Axes>"
            ],
            "image/png": "[encoded data removed]"
          },
          "metadata": {}
        }
      ]
    },
    {
      "cell_type": "markdown",
      "source": [
        "## **Note #2**\n",
        "According to the results we can conclude the following:\n",
        "\n",
        "${\\circ}$ From the scatter plots we see a verticle behaviour, as expected due to the constant value of each ${X_i}$. This verticle line tells us that there is no correlation between ${Y_i}$ and its corresponding ${X_i}$.\n",
        "<br>\n",
        "${\\circ}$ According to the statistics summary (**before the preprocessing**) that we presented earlier, we know that ${σ_{Y3} \\le σ_{Y5} \\le σ_{Y4} \\le σ_{Y2}}$. Again, according to the previous explenation, there is no correlation, but if we still wanted to estimate some feature according to a given independent variable, the estimation would be better for the features with the lowest standard deviation, ${Y3}$ and ${Y5}$ in our case.\n",
        "<br>\n",
        "${\\circ}$ From the scatter plots between the different features we can see that ${Y_1}$ has no correlation with the other features, while the other features ${Y_i}$ for ${i \\neq 1}$ are correlated with each other. Actually, we **can** define some approximate linear relationbetween them, while the intensity of the correlation will be varying according to the spread of the points in the plot.\n",
        "\n",
        "\n",
        "### The meaning of ${Y_1}$\n",
        "According to the results so far, ${Y_1}$ can have the following interpretations:\n",
        "\n",
        "1) A measure of some outcome of interest that is being studied independently (for example it might represent the number of times a particular event or condition was observed during a series of tests)\n",
        "\n",
        "2) A control feature used to adjust for certain effects when analyzing the relationships between the other features and variables"
      ],
      "metadata": {
        "id": "RIwekSqPVouv"
      }
    },
    {
      "cell_type": "code",
      "source": [],
      "metadata": {
        "id": "5xMsqg0aG587"
      },
      "execution_count": 77,
      "outputs": []
    },
    {
      "cell_type": "code",
      "source": [],
      "metadata": {
        "id": "MDJEgNN4iNsz"
      },
      "execution_count": 71,
      "outputs": []
    },
    {
      "cell_type": "code",
      "source": [],
      "metadata": {
        "id": "lUmTDjjoixJa"
      },
      "execution_count": null,
      "outputs": []
    }
  ]
}